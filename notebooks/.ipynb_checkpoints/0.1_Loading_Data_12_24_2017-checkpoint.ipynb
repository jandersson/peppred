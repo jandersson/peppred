{
 "cells": [
  {
   "cell_type": "markdown",
   "metadata": {},
   "source": [
    "The goal of this notebook is to inspect the training data"
   ]
  },
  {
   "cell_type": "code",
   "execution_count": 5,
   "metadata": {},
   "outputs": [
    {
     "name": "stdout",
     "output_type": "stream",
     "text": [
      "/home/jonas/peppred/data/training_data\n",
      "/home/jonas/peppred/data/training_data\n"
     ]
    }
   ],
   "source": [
    "import os\n",
    "print(os.getcwd())\n",
    "os.chdir('/home/jonas/peppred/data/training_data')\n",
    "print(os.getcwd())"
   ]
  },
  {
   "cell_type": "code",
   "execution_count": 7,
   "metadata": {},
   "outputs": [
    {
     "name": "stdout",
     "output_type": "stream",
     "text": [
      "['positive_examples', 'negative_examples']\n"
     ]
    }
   ],
   "source": [
    "print(os.listdir())"
   ]
  },
  {
   "cell_type": "code",
   "execution_count": 8,
   "metadata": {
    "collapsed": true
   },
   "outputs": [],
   "source": [
    "os.chdir('positive_examples')"
   ]
  },
  {
   "cell_type": "code",
   "execution_count": 9,
   "metadata": {},
   "outputs": [
    {
     "data": {
      "text/plain": [
       "'/home/jonas/peppred/data/training_data/positive_examples'"
      ]
     },
     "execution_count": 9,
     "metadata": {},
     "output_type": "execute_result"
    }
   ],
   "source": [
    "os.getcwd()"
   ]
  },
  {
   "cell_type": "code",
   "execution_count": 11,
   "metadata": {},
   "outputs": [],
   "source": [
    "os.listdir()\n",
    "os.chdir('tm')"
   ]
  },
  {
   "cell_type": "code",
   "execution_count": 12,
   "metadata": {},
   "outputs": [
    {
     "data": {
      "text/plain": [
       "['m5.faa',\n",
       " 'm3.faa',\n",
       " 'm9.faa',\n",
       " '._m1.faa',\n",
       " 'm2.faa',\n",
       " '._m2.faa',\n",
       " '._m7.faa',\n",
       " 'm1.faa',\n",
       " '._m9.faa',\n",
       " '._m6.faa',\n",
       " '._m0.faa',\n",
       " 'm0.faa',\n",
       " '._m3.faa',\n",
       " 'm6.faa',\n",
       " '._m4.faa',\n",
       " 'm8.faa',\n",
       " 'm7.faa',\n",
       " '._m5.faa',\n",
       " 'm4.faa',\n",
       " '._m8.faa']"
      ]
     },
     "execution_count": 12,
     "metadata": {},
     "output_type": "execute_result"
    }
   ],
   "source": [
    "os.listdir()"
   ]
  },
  {
   "cell_type": "code",
   "execution_count": 19,
   "metadata": {},
   "outputs": [
    {
     "data": {
      "text/plain": [
       "[SeqRecord(seq=Seq('MARALCRLPRRGLWLLLAHHLFMTTACQEANYGALLRELCLTQFQVDMEAVGET...iii', SingleLetterAlphabet()), id='RMP1_HUMAN', name='RMP1_HUMAN', description='RMP1_HUMAN O60894 148 AA.', dbxrefs=[]),\n",
       " SeqRecord(seq=Seq('MKFTVTFLLIICTLSAFCSPTSKPQRHISCRFTRIWNIPSCYNEKSDLSEAWLY...iii', SingleLetterAlphabet()), id='E315_ADE05', name='E315_ADE05', description='E315_ADE05 P06498 132 AA.', dbxrefs=[]),\n",
       " SeqRecord(seq=Seq('MEAPIVLLLLLWLALAPTPGSASSEAPPLVNEDVKRTVDLSSHLAKVTAEVVLA...iii', SingleLetterAlphabet()), id='RIB1_RAT', name='RIB1_RAT', description='RIB1_RAT P07153; 605 AA.', dbxrefs=[]),\n",
       " SeqRecord(seq=Seq('MGSGPRGALSLLLLLLAPPSRPAAGCPAPCSCAGTLVDCGRRGLTWASLPTAFP...iii', SingleLetterAlphabet()), id='GPBB_HUMAN', name='GPBB_HUMAN', description='GPBB_HUMAN P13224; 206 AA.', dbxrefs=[]),\n",
       " SeqRecord(seq=Seq('MRLCIPQVLLALFLSMLTAPGEGSRRRATQEDTTQPALLRLSDHLLANYKKGVR...ooo', SingleLetterAlphabet()), id='5HT3_MOUSE', name='5HT3_MOUSE', description='5HT3_MOUSE P23979; 487 AA.', dbxrefs=[])]"
      ]
     },
     "execution_count": 19,
     "metadata": {},
     "output_type": "execute_result"
    }
   ],
   "source": [
    "import Bio.SeqIO\n",
    "\n",
    "data = list(Bio.SeqIO.parse('m5.faa', 'fasta'))\n",
    "data"
   ]
  },
  {
   "cell_type": "code",
   "execution_count": 22,
   "metadata": {},
   "outputs": [
    {
     "data": {
      "text/plain": [
       "Seq('MARALCRLPRRGLWLLLAHHLFMTTACQEANYGALLRELCLTQFQVDMEAVGET...iii', SingleLetterAlphabet())"
      ]
     },
     "execution_count": 22,
     "metadata": {},
     "output_type": "execute_result"
    }
   ],
   "source": [
    "data[0].seq"
   ]
  },
  {
   "cell_type": "code",
   "execution_count": 26,
   "metadata": {},
   "outputs": [
    {
     "name": "stdout",
     "output_type": "stream",
     "text": [
      ">RMP1_HUMAN O60894 148 AA.\n",
      "MARALCRLPRRGLWLLLAHHLFMTTACQEANYGALLRELCLTQFQVDMEAVGETLWCDWG\n",
      "RTIRSYRELADCTWHMAEKLGCFWPNAEVDRFFLAVHGRYFRSCPISGRAVRDPPGSILY\n",
      "PFIVVPITVTLLVTALVVWQSKRTEGIV#nnnnnnnnnnnhhhhhhcccccccccCoooo\n",
      "oooooooooooooooooooooooooooooooooooooooooooooooooooooooooooo\n",
      "ooooooooooooooooooooooooooMMMMMMMMMMMMMMMMMMMMMMiiiiiiiii\n"
     ]
    },
    {
     "data": {
      "text/plain": [
       "1"
      ]
     },
     "execution_count": 26,
     "metadata": {},
     "output_type": "execute_result"
    }
   ],
   "source": [
    "import sys\n",
    "Bio.SeqIO.write(data[0], sys.stdout, 'fasta')"
   ]
  },
  {
   "cell_type": "code",
   "execution_count": 27,
   "metadata": {},
   "outputs": [
    {
     "name": "stdout",
     "output_type": "stream",
     "text": [
      ">E315_ADE05 P06498 132 AA.\n",
      "MKFTVTFLLIICTLSAFCSPTSKPQRHISCRFTRIWNIPSCYNEKSDLSEAWLYAIISVM\n",
      "VFCSTILALAIYPYLDIGWKRIDAMNHPTFPAPAMLPLQQVVAGGFVPANQPRPTSPTPT\n",
      "EISYFNLTGGDD#nnnhhhhhhhhhccccccCoooooooooooooooooooooooooooo\n",
      "oooMMMMMMMMMMMMMMMMMMMMMMiiiiiiiiiiiiiiiiiiiiiiiiiiiiiiiiiii\n",
      "iiiiiiiiiiiiiiiiiiiiiiiii\n"
     ]
    },
    {
     "data": {
      "text/plain": [
       "1"
      ]
     },
     "execution_count": 27,
     "metadata": {},
     "output_type": "execute_result"
    }
   ],
   "source": [
    "Bio.SeqIO.write(data[1], sys.stdout, 'fasta')"
   ]
  },
  {
   "cell_type": "code",
   "execution_count": 31,
   "metadata": {},
   "outputs": [
    {
     "name": "stdout",
     "output_type": "stream",
     "text": [
      "Unable to load data\n"
     ]
    }
   ],
   "source": [
    "try:\n",
    "    data = list(Bio.SeqIO.parse('._m4.faa', 'fasta'))\n",
    "except:\n",
    "    print(\"Unable to load data\")"
   ]
  }
 ],
 "metadata": {
  "kernelspec": {
   "display_name": "Python 3",
   "language": "python",
   "name": "python3"
  },
  "language_info": {
   "codemirror_mode": {
    "name": "ipython",
    "version": 3
   },
   "file_extension": ".py",
   "mimetype": "text/x-python",
   "name": "python",
   "nbconvert_exporter": "python",
   "pygments_lexer": "ipython3",
   "version": "3.6.2"
  }
 },
 "nbformat": 4,
 "nbformat_minor": 2
}
