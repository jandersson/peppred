{
 "cells": [
  {
   "cell_type": "markdown",
   "metadata": {},
   "source": [
    "The data is current a nested dictionary. This is pretty unwieldy to use. In order to easily shuffle, split, and use the data, a list would be much better. Each data item would be a hash in this case with the sequence, class, and tm/non-tm status.\n",
    "\n",
    "```python\n",
    "data_item = {\n",
    "    'sequence': Bio.Seq\n",
    "    'class': 0, # Negative example\n",
    "    'tm': False, # non_tm\n",
    "}\n",
    "```"
   ]
  },
  {
   "cell_type": "code",
   "execution_count": 1,
   "metadata": {
    "collapsed": true
   },
   "outputs": [],
   "source": [
    "import sys\n",
    "sys.path.append('/home/jonas/peppred/src/')\n",
    "from data import get_data, transform_data"
   ]
  },
  {
   "cell_type": "code",
   "execution_count": 24,
   "metadata": {},
   "outputs": [],
   "source": [
    "data = transform_data(get_data())\n",
    "\n",
    "data_item = {\n",
    "    'sequence': None,\n",
    "    'class': None,\n",
    "    'tm': None,\n",
    "}\n",
    "training_data = []\n",
    "for key in data:\n",
    "    for subkey in data[key]:\n",
    "        for item in data[key][subkey]:\n",
    "            data_item = {\n",
    "                'sequence': item,\n",
    "                'class': None,\n",
    "                'tm': None,\n",
    "            }\n",
    "            data_item['class'] = 0 if key == 'negative_examples' else 1\n",
    "            data_item['tm'] = False if subkey == 'non_tm' else True\n",
    "            training_data.append(data_item)\n",
    "\n",
    "# Quick sanity check, check if lengths of the data and training data are the same\n",
    "assert len([item for item in training_data if item['class'] == 1]) \\\n",
    "            == len(data['positive_examples']['tm'] + data['positive_examples']['non_tm'])\n",
    "assert len([item for item in training_data if item['class'] == 0]) \\\n",
    "            == len(data['negative_examples']['tm'] + data['negative_examples']['non_tm'])\n",
    "assert len([item for item in training_data if item['tm']]) \\\n",
    "            == len(data['positive_examples']['tm'] + data['negative_examples']['tm'])\n",
    "assert len([item for item in training_data if not item['tm']]) \\\n",
    "            == len(data['positive_examples']['non_tm'] + data['negative_examples']['non_tm'])"
   ]
  },
  {
   "cell_type": "code",
   "execution_count": 11,
   "metadata": {},
   "outputs": [
    {
     "data": {
      "text/plain": [
       "[{'class': 1,\n",
       "  'sequence': Seq('MARALCRLPRRGLWLLLAHHLFMTTACQEANYGALLRELCLTQFQVDMEAVGET...GIV', SingleLetterAlphabet()),\n",
       "  'tm': True},\n",
       " {'class': 1,\n",
       "  'sequence': Seq('MKFTVTFLLIICTLSAFCSPTSKPQRHISCRFTRIWNIPSCYNEKSDLSEAWLY...GDD', SingleLetterAlphabet()),\n",
       "  'tm': True},\n",
       " {'class': 1,\n",
       "  'sequence': Seq('MEAPIVLLLLLWLALAPTPGSASSEAPPLVNEDVKRTVDLSSHLAKVTAEVVLA...DAL', SingleLetterAlphabet()),\n",
       "  'tm': True}]"
      ]
     },
     "execution_count": 11,
     "metadata": {},
     "output_type": "execute_result"
    }
   ],
   "source": [
    "training_data[:3]"
   ]
  },
  {
   "cell_type": "code",
   "execution_count": 12,
   "metadata": {},
   "outputs": [
    {
     "data": {
      "text/plain": [
       "2654"
      ]
     },
     "execution_count": 12,
     "metadata": {},
     "output_type": "execute_result"
    }
   ],
   "source": [
    "len(training_data)"
   ]
  },
  {
   "cell_type": "code",
   "execution_count": 13,
   "metadata": {},
   "outputs": [
    {
     "data": {
      "text/plain": [
       "1320"
      ]
     },
     "execution_count": 13,
     "metadata": {},
     "output_type": "execute_result"
    }
   ],
   "source": [
    "len([item for item in training_data if item['class'] == 1])"
   ]
  },
  {
   "cell_type": "code",
   "execution_count": 16,
   "metadata": {},
   "outputs": [
    {
     "data": {
      "text/plain": [
       "1320"
      ]
     },
     "execution_count": 16,
     "metadata": {},
     "output_type": "execute_result"
    }
   ],
   "source": [
    "len(data['positive_examples']['tm'] + data['positive_examples']['non_tm'])"
   ]
  }
 ],
 "metadata": {
  "kernelspec": {
   "display_name": "Python 3",
   "language": "python",
   "name": "python3"
  },
  "language_info": {
   "codemirror_mode": {
    "name": "ipython",
    "version": 3
   },
   "file_extension": ".py",
   "mimetype": "text/x-python",
   "name": "python",
   "nbconvert_exporter": "python",
   "pygments_lexer": "ipython3",
   "version": "3.6.2"
  }
 },
 "nbformat": 4,
 "nbformat_minor": 2
}
