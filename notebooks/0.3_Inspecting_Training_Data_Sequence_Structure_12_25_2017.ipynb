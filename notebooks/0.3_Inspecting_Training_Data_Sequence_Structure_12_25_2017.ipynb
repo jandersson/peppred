{
 "cells": [
  {
   "cell_type": "markdown",
   "metadata": {},
   "source": [
    "_From the Project Instructions Page:_\n",
    "\n",
    "_I bolded text i thought was significant_\n",
    "\n",
    "# Training and test data\n",
    "\n",
    "Here is labelled training data for signal peptide prediction containing both positive and negative examples, also divided into transmembrane (tm) and non-transmembrane (non_tm) examples.\n",
    "\n",
    "**The files are in a Fasta-like format**, in which **each protein sequence is followed by a annotation line (prefixed with #) in which the n-, h-, and c-region positions are marked with n, h, and c. The actual cleavage site is marked with a upper case C.** The markup after that is not important for this assignment, but it details whether a position is found in a TM region, or prefers the cytoplasmic side or non-cytoplasmic side (\"inside or outside\") of a TM protein, or whether it is \"just\" globular.\n",
    "\n",
    "A note based on experience: you will not pass if you base your prediction on the labels instead of the amino acids.\n",
    "\n"
   ]
  },
  {
   "cell_type": "code",
   "execution_count": 1,
   "metadata": {
    "collapsed": true
   },
   "outputs": [],
   "source": [
    "import sys\n",
    "sys.path.append('/home/jonas/peppred/src/')\n",
    "from data import get_data"
   ]
  },
  {
   "cell_type": "markdown",
   "metadata": {},
   "source": [
    "The procedure for getting the data in the previous notebook was turned into a method called `get_data()`"
   ]
  },
  {
   "cell_type": "code",
   "execution_count": 2,
   "metadata": {},
   "outputs": [
    {
     "name": "stdout",
     "output_type": "stream",
     "text": [
      "Data contains 2654 sequences\n"
     ]
    }
   ],
   "source": [
    "data = get_data()\n",
    "print(f\"Data contains {len(data)} sequences\")"
   ]
  },
  {
   "cell_type": "code",
   "execution_count": 3,
   "metadata": {},
   "outputs": [
    {
     "data": {
      "text/plain": [
       "SeqRecord(seq=Seq('MARALCRLPRRGLWLLLAHHLFMTTACQEANYGALLRELCLTQFQVDMEAVGET...iii', SingleLetterAlphabet()), id='RMP1_HUMAN', name='RMP1_HUMAN', description='RMP1_HUMAN O60894 148 AA.', dbxrefs=[])"
      ]
     },
     "execution_count": 3,
     "metadata": {},
     "output_type": "execute_result"
    }
   ],
   "source": [
    "data[0]"
   ]
  },
  {
   "cell_type": "code",
   "execution_count": 4,
   "metadata": {},
   "outputs": [
    {
     "data": {
      "text/plain": [
       "Seq('MARALCRLPRRGLWLLLAHHLFMTTACQEANYGALLRELCLTQFQVDMEAVGET...iii', SingleLetterAlphabet())"
      ]
     },
     "execution_count": 4,
     "metadata": {},
     "output_type": "execute_result"
    }
   ],
   "source": [
    "data[0].seq"
   ]
  },
  {
   "cell_type": "markdown",
   "metadata": {},
   "source": [
    "Note: We need to use the string representation to access the entire sequence (compare the above cell with the one below)"
   ]
  },
  {
   "cell_type": "code",
   "execution_count": 5,
   "metadata": {},
   "outputs": [
    {
     "name": "stdout",
     "output_type": "stream",
     "text": [
      "MARALCRLPRRGLWLLLAHHLFMTTACQEANYGALLRELCLTQFQVDMEAVGETLWCDWGRTIRSYRELADCTWHMAEKLGCFWPNAEVDRFFLAVHGRYFRSCPISGRAVRDPPGSILYPFIVVPITVTLLVTALVVWQSKRTEGIV#nnnnnnnnnnnhhhhhhcccccccccCooooooooooooooooooooooooooooooooooooooooooooooooooooooooooooooooooooooooooooooooooooooooooMMMMMMMMMMMMMMMMMMMMMMiiiiiiiii\n"
     ]
    }
   ],
   "source": [
    "print(data[0].seq)"
   ]
  },
  {
   "cell_type": "markdown",
   "metadata": {},
   "source": [
    "### each protein sequence is followed by a annotation line (prefixed with #) in which the n-, h-, and c-region positions are marked with n, h, and c. The actual cleavage site is marked with a upper case C."
   ]
  },
  {
   "cell_type": "code",
   "execution_count": 6,
   "metadata": {},
   "outputs": [
    {
     "name": "stdout",
     "output_type": "stream",
     "text": [
      "MARALCRLPRRGLWLLLAHHLFMTTACQEANYGALLRELCLTQFQVDMEAVGETLWCDWGRTIRSYRELADCTWHMAEKLGCFWPNAEVDRFFLAVHGRYFRSCPISGRAVRDPPGSILYPFIVVPITVTLLVTALVVWQSKRTEGIV\n",
      "nnnnnnnnnnnhhhhhhcccccccccCooooooooooooooooooooooooooooooooooooooooooooooooooooooooooooooooooooooooooooooooooooooooooMMMMMMMMMMMMMMMMMMMMMMiiiiiiiii\n"
     ]
    }
   ],
   "source": [
    "sequence, annotation = data[0].seq.split('#')\n",
    "\n",
    "print(sequence)\n",
    "print(annotation)"
   ]
  },
  {
   "cell_type": "code",
   "execution_count": 7,
   "metadata": {},
   "outputs": [
    {
     "name": "stdout",
     "output_type": "stream",
     "text": [
      "['M', 'A', 'R', 'A', 'L', 'C', 'R', 'L', 'P', 'R', 'R']\n",
      "['G', 'L', 'W', 'L', 'L', 'L']\n",
      "['A', 'H', 'H', 'L', 'F', 'M', 'T', 'T', 'A']\n"
     ]
    }
   ],
   "source": [
    "n_region = []\n",
    "h_region = []\n",
    "c_region = []\n",
    "\n",
    "for index, char in enumerate(sequence):\n",
    "    if annotation[index] == 'n':\n",
    "        n_region.append(char)\n",
    "    if annotation[index] == 'c':\n",
    "        c_region.append(char)\n",
    "    if annotation[index] == 'h':\n",
    "        h_region.append(char)\n",
    "\n",
    "print(n_region)\n",
    "print(h_region)\n",
    "print(c_region)"
   ]
  },
  {
   "cell_type": "code",
   "execution_count": 8,
   "metadata": {},
   "outputs": [
    {
     "data": {
      "text/plain": [
       "{'c': ['A', 'H', 'H', 'L', 'F', 'M', 'T', 'T', 'A'],\n",
       " 'h': ['G', 'L', 'W', 'L', 'L', 'L'],\n",
       " 'n': ['M', 'A', 'R', 'A', 'L', 'C', 'R', 'L', 'P', 'R', 'R']}"
      ]
     },
     "execution_count": 8,
     "metadata": {},
     "output_type": "execute_result"
    }
   ],
   "source": [
    "from data import annotate_regions\n",
    "\n",
    "annotate_regions(data[0].seq)"
   ]
  }
 ],
 "metadata": {
  "kernelspec": {
   "display_name": "Python 3",
   "language": "python",
   "name": "python3"
  },
  "language_info": {
   "codemirror_mode": {
    "name": "ipython",
    "version": 3
   },
   "file_extension": ".py",
   "mimetype": "text/x-python",
   "name": "python",
   "nbconvert_exporter": "python",
   "pygments_lexer": "ipython3",
   "version": "3.6.2"
  }
 },
 "nbformat": 4,
 "nbformat_minor": 2
}
