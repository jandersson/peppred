{
 "cells": [
  {
   "cell_type": "markdown",
   "metadata": {},
   "source": [
    "We want to annotate the training data with 'positive' and 'negative' so we can work with them logically."
   ]
  },
  {
   "cell_type": "code",
   "execution_count": 1,
   "metadata": {
    "collapsed": true
   },
   "outputs": [],
   "source": [
    "# This is data.py get_data()\n",
    "def get_data():\n",
    "    \"\"\"Return a list of all training data\"\"\"\n",
    "    data_dir = '/home/jonas/peppred/data/**/*.faa'\n",
    "    data_files = glob.glob(data_dir, recursive=True)\n",
    "    data = []\n",
    "    parsed_items = [SeqIO.parse(data_file, format='fasta') for data_file in data_files]\n",
    "    for item in parsed_items:\n",
    "        for subitem in item:\n",
    "            data.append(subitem)\n",
    "    return data"
   ]
  },
  {
   "cell_type": "markdown",
   "metadata": {},
   "source": [
    "It might be better to have data be a hash where with keys for positive and negative"
   ]
  },
  {
   "cell_type": "code",
   "execution_count": 2,
   "metadata": {},
   "outputs": [
    {
     "name": "stdout",
     "output_type": "stream",
     "text": [
      "Number of negative examples: 1320\n",
      "Number of positive examples: 1334\n"
     ]
    }
   ],
   "source": [
    "import glob\n",
    "positive_dir = '/home/jonas/peppred/data/training_data/positive_examples/**/*.faa'\n",
    "negative_dir = '/home/jonas/peppred/data/training_data/negative_examples/**/*.faa'\n",
    "negative_files = glob.glob(positive_dir, recursive=True)\n",
    "positive_files = glob.glob(negative_dir, recursive=True)\n",
    "data = {\n",
    "    'positive_examples': [],\n",
    "    'negative_examples': []\n",
    "}\n",
    "from Bio import SeqIO\n",
    "parsed_items = [SeqIO.parse(data_file, format='fasta') for data_file in negative_files]\n",
    "for item in parsed_items:\n",
    "    for subitem in item:\n",
    "        data['negative_examples'].append(subitem)\n",
    "print(f\"Number of negative examples: {len(data['negative_examples'])}\")\n",
    "parsed_items = [SeqIO.parse(data_file, format='fasta') for data_file in positive_files]\n",
    "for item in parsed_items:\n",
    "    for subitem in item:\n",
    "        data['positive_examples'].append(subitem)\n",
    "print(f\"Number of positive examples: {len(data['positive_examples'])}\")"
   ]
  },
  {
   "cell_type": "code",
   "execution_count": 3,
   "metadata": {},
   "outputs": [
    {
     "name": "stdout",
     "output_type": "stream",
     "text": [
      "dict_keys(['positive_examples', 'negative_examples'])\n"
     ]
    }
   ],
   "source": [
    "print(data.keys())"
   ]
  },
  {
   "cell_type": "markdown",
   "metadata": {},
   "source": [
    "We may be interested if they are tm or non tm examples as well. So we should make data a dictionary of dictionarys, where the inner dict has lists as values. We can refactor the above code at the same time"
   ]
  },
  {
   "cell_type": "code",
   "execution_count": 4,
   "metadata": {},
   "outputs": [
    {
     "name": "stdout",
     "output_type": "stream",
     "text": [
      "45 examples in positive_examples/tm\n",
      "1275 examples in positive_examples/non_tm\n",
      "247 examples in negative_examples/tm\n",
      "1087 examples in negative_examples/non_tm\n"
     ]
    }
   ],
   "source": [
    "data_dir = '/home/jonas/peppred/data/training_data'\n",
    "import os\n",
    "files = {\n",
    "    'positive_examples': {\n",
    "        'tm': [],\n",
    "        'non_tm': []\n",
    "    },\n",
    "    'negative_examples': {\n",
    "        'tm': [],\n",
    "        'non_tm': []\n",
    "    }\n",
    "}\n",
    "data = {\n",
    "    'positive_examples': {\n",
    "        'tm': [],\n",
    "        'non_tm': []\n",
    "    },\n",
    "    'negative_examples': {\n",
    "        'tm': [],\n",
    "        'non_tm': []\n",
    "    }\n",
    "}\n",
    "\n",
    "for key in files:\n",
    "    for subkey in files[key]:\n",
    "        file_path = os.path.join(data_dir, key, subkey, '*.faa')\n",
    "        files[key][subkey] = glob.glob(file_path, recursive=True)\n",
    "        for item in [SeqIO.parse(data_file, format='fasta') for data_file in files[key][subkey]]:\n",
    "            for subitem in item:\n",
    "                data[key][subkey].append(subitem)\n",
    "        print(f\"{len(data[key][subkey])} examples in {key}/{subkey}\")"
   ]
  },
  {
   "cell_type": "code",
   "execution_count": 5,
   "metadata": {},
   "outputs": [
    {
     "data": {
      "text/plain": [
       "dict_keys(['positive_examples', 'negative_examples'])"
      ]
     },
     "execution_count": 5,
     "metadata": {},
     "output_type": "execute_result"
    }
   ],
   "source": [
    "data.keys()"
   ]
  },
  {
   "cell_type": "markdown",
   "metadata": {},
   "source": [
    "get_data() will be updated to return this data from now on"
   ]
  },
  {
   "cell_type": "code",
   "execution_count": 7,
   "metadata": {},
   "outputs": [
    {
     "name": "stdout",
     "output_type": "stream",
     "text": [
      "45 examples for positive_examples/tm\n",
      "1275 examples for positive_examples/non_tm\n",
      "247 examples for negative_examples/tm\n",
      "1087 examples for negative_examples/non_tm\n",
      "2654 total examples\n"
     ]
    }
   ],
   "source": [
    "import sys\n",
    "sys.path.append('/home/jonas/peppred/src/')\n",
    "from data import get_data\n",
    "data = get_data()\n",
    "total = 0\n",
    "for key in data:\n",
    "    for subkey in data[key]:\n",
    "        num_examples = len(data[key][subkey])\n",
    "        total += num_examples\n",
    "        print(f\"{num_examples} examples for {key}/{subkey}\")\n",
    "print(f\"{total} total examples\")"
   ]
  }
 ],
 "metadata": {
  "kernelspec": {
   "display_name": "Python 3",
   "language": "python",
   "name": "python3"
  },
  "language_info": {
   "codemirror_mode": {
    "name": "ipython",
    "version": 3
   },
   "file_extension": ".py",
   "mimetype": "text/x-python",
   "name": "python",
   "nbconvert_exporter": "python",
   "pygments_lexer": "ipython3",
   "version": "3.6.2"
  }
 },
 "nbformat": 4,
 "nbformat_minor": 2
}
