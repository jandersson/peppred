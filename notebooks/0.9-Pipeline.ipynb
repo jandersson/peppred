{
 "cells": [
  {
   "cell_type": "code",
   "execution_count": 1,
   "metadata": {
    "collapsed": true
   },
   "outputs": [],
   "source": [
    "import sys\n",
    "sys.path.append('/home/jonas/peppred/src/')\n",
    "from data import get_data, transform_data"
   ]
  },
  {
   "cell_type": "code",
   "execution_count": 95,
   "metadata": {},
   "outputs": [],
   "source": [
    "# Heavily Inspired from http://scikit-learn.org/stable/auto_examples/text/document_classification_20newsgroups.html#sphx-glr-auto-examples-text-document-classification-20newsgroups-py\n",
    "\n",
    "from sklearn.feature_extraction.text import CountVectorizer, TfidfTransformer, TfidfVectorizer\n",
    "# Begin Classifiers\n",
    "from sklearn.neighbors import KNeighborsClassifier\n",
    "from sklearn.linear_model import RidgeClassifier, Perceptron, PassiveAggressiveClassifier\n",
    "from sklearn.ensemble import RandomForestClassifier\n",
    "from sklearn.naive_bayes import BernoulliNB, MultinomialNB\n",
    "from sklearn.svm import LinearSVC\n",
    "# End Classifiers\n",
    "from sklearn.metrics import accuracy_score"
   ]
  },
  {
   "cell_type": "code",
   "execution_count": 40,
   "metadata": {},
   "outputs": [
    {
     "data": {
      "text/plain": [
       "<2654x452 sparse matrix of type '<class 'numpy.float64'>'\n",
       "\twith 469678 stored elements in Compressed Sparse Row format>"
      ]
     },
     "execution_count": 40,
     "metadata": {},
     "output_type": "execute_result"
    }
   ],
   "source": [
    "data = transform_data(get_data())\n",
    "examples = [str(seq['sequence']) for seq in data]\n",
    "labels = [item['class'] for item in data]\n",
    "n_gram_range = (2,2)\n",
    "vectorizer = CountVectorizer(analyzer='char_wb', ngram_range=n_gram_range)\n",
    "transformer = TfidfTransformer()\n",
    "counts = vectorizer.fit_transform(examples)\n",
    "tfidf = transformer.fit_transform(counts)\n",
    "tfidf"
   ]
  },
  {
   "cell_type": "code",
   "execution_count": 55,
   "metadata": {},
   "outputs": [],
   "source": [
    "# There is a class called TfidfVectorizer which combines the above steps\n",
    "data = transform_data(get_data())\n",
    "examples = [str(seq['sequence']) for seq in data]\n",
    "labels = [item['class'] for item in data]\n",
    "x_train, x_test, y_train, y_test = train_test_split(examples, labels, test_size=0.1, random_state=99)\n",
    "n_gram_range = (2,2)\n",
    "vectorizer = TfidfVectorizer(analyzer='char_wb', ngram_range=n_gram_range)\n",
    "x_train = vectorizer.fit_transform(x_train)\n",
    "x_test = vectorizer.transform(x_test)\n",
    "# Mapping from integer feature name to original token string (Doesn't work with hashing vectorizer)\n",
    "feature_names = vectorizer.get_feature_names() "
   ]
  },
  {
   "cell_type": "code",
   "execution_count": 99,
   "metadata": {},
   "outputs": [
    {
     "name": "stderr",
     "output_type": "stream",
     "text": [
      "/home/jonas/opt/anaconda/envs/peppred/lib/python3.6/site-packages/sklearn/linear_model/stochastic_gradient.py:73: DeprecationWarning: n_iter parameter is deprecated in 0.19 and will be removed in 0.21. Use max_iter and tol instead.\n",
      "  DeprecationWarning)\n",
      "/home/jonas/opt/anaconda/envs/peppred/lib/python3.6/site-packages/sklearn/linear_model/stochastic_gradient.py:73: DeprecationWarning: n_iter parameter is deprecated in 0.19 and will be removed in 0.21. Use max_iter and tol instead.\n",
      "  DeprecationWarning)\n",
      "/home/jonas/opt/anaconda/envs/peppred/lib/python3.6/site-packages/sklearn/linear_model/ridge.py:319: UserWarning: In Ridge, only 'sag' solver can currently fit the intercept when X is sparse. Solver has been automatically changed into 'sag'.\n",
      "  warnings.warn(\"In Ridge, only 'sag' solver can currently fit the \"\n"
     ]
    },
    {
     "name": "stdout",
     "output_type": "stream",
     "text": [
      "kNN: 0.7556390977443609\n",
      "Ridge regression: 0.8195488721804511\n",
      "Perceptron: 0.8308270676691729\n",
      "Passive Agressive Classifier: 0.8120300751879699\n",
      "Random Forest: 0.8345864661654135\n",
      "Multinomial Naive Bayes: 0.793233082706767\n",
      "Bernoulli Naive Bayes: 0.6578947368421053\n",
      "SVM: 0.8195488721804511\n"
     ]
    },
    {
     "data": {
      "text/plain": [
       "{'Bernoulli Naive Bayes': 0.65789473684210531,\n",
       " 'Multinomial Naive Bayes': 0.79323308270676696,\n",
       " 'Passive Agressive Classifier': 0.81203007518796988,\n",
       " 'Perceptron': 0.83082706766917291,\n",
       " 'Random Forest': 0.83458646616541354,\n",
       " 'Ridge regression': 0.81954887218045114,\n",
       " 'SVM': 0.81954887218045114,\n",
       " 'kNN': 0.75563909774436089}"
      ]
     },
     "execution_count": 99,
     "metadata": {},
     "output_type": "execute_result"
    }
   ],
   "source": [
    "def benchmark_classifiers(classifiers, x_train, y_train, x_test, y_test):\n",
    "    scores = {}\n",
    "    for clf, name in classifiers:\n",
    "        clf.fit(x_train, y_train)\n",
    "        predictions = clf.predict(x_test)\n",
    "        accuracy = accuracy_score(y_test, predictions)\n",
    "        print(f\"{name}: {accuracy}\")\n",
    "        scores[name] = accuracy\n",
    "    return scores\n",
    "        \n",
    "classifiers = [\n",
    "    (KNeighborsClassifier(n_neighbors=12), \"kNN\"),\n",
    "    (RidgeClassifier(tol=1e-2, solver='lsqr'), 'Ridge regression'),\n",
    "    (Perceptron(n_iter=20), 'Perceptron'),\n",
    "    (PassiveAggressiveClassifier(n_iter=10), 'Passive Agressive Classifier'),\n",
    "    (RandomForestClassifier(n_estimators=200), 'Random Forest'),\n",
    "    (MultinomialNB(alpha=0.01), 'Multinomial Naive Bayes'),\n",
    "    (BernoulliNB(alpha=0.01), \"Bernoulli Naive Bayes\"),\n",
    "    (LinearSVC(penalty='l2', tol=1e-3), \"SVM\"),\n",
    "]\n",
    "benchmark_classifiers(classifiers, x_train, y_train, x_test, y_test)"
   ]
  }
 ],
 "metadata": {
  "kernelspec": {
   "display_name": "Python 3",
   "language": "python",
   "name": "python3"
  },
  "language_info": {
   "codemirror_mode": {
    "name": "ipython",
    "version": 3
   },
   "file_extension": ".py",
   "mimetype": "text/x-python",
   "name": "python",
   "nbconvert_exporter": "python",
   "pygments_lexer": "ipython3",
   "version": "3.6.2"
  },
  "toc": {
   "colors": {
    "hover_highlight": "#DAA520",
    "navigate_num": "#000000",
    "navigate_text": "#333333",
    "running_highlight": "#FF0000",
    "selected_highlight": "#FFD700",
    "sidebar_border": "#EEEEEE",
    "wrapper_background": "#FFFFFF"
   },
   "moveMenuLeft": true,
   "nav_menu": {
    "height": "12px",
    "width": "252px"
   },
   "navigate_menu": true,
   "number_sections": true,
   "sideBar": true,
   "threshold": 4,
   "toc_cell": false,
   "toc_section_display": "block",
   "toc_window_display": false,
   "widenNotebook": false
  }
 },
 "nbformat": 4,
 "nbformat_minor": 2
}
