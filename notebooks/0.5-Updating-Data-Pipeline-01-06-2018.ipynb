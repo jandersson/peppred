{
 "cells": [
  {
   "cell_type": "markdown",
   "metadata": {},
   "source": [
    "We want to combine the get_data() function with the annotate_regions() function. The annotations exist alongside the amino acid sequence in the raw data. We should aim to keep track of which region is which as well as what the entire sequence looks like.\n",
    "\n",
    "Below are the two methods as they currently exist:"
   ]
  },
  {
   "cell_type": "code",
   "execution_count": 11,
   "metadata": {
    "collapsed": true
   },
   "outputs": [],
   "source": [
    "import glob\n",
    "import os\n",
    "from Bio import SeqIO\n",
    "import os\n",
    "\n",
    "def get_data():\n",
    "    \"\"\"Return a dictionary of all training data, keyed by positive and negative examples, subkeyed by tm/non tm\"\"\"\n",
    "    files = {\n",
    "        'positive_examples': {\n",
    "            'tm': [],\n",
    "            'non_tm': []\n",
    "        },\n",
    "        'negative_examples': {\n",
    "            'tm': [],\n",
    "            'non_tm': []\n",
    "        }\n",
    "    }\n",
    "    data = {\n",
    "        'positive_examples': {\n",
    "            'tm': [],\n",
    "            'non_tm': []\n",
    "        },\n",
    "        'negative_examples': {\n",
    "            'tm': [],\n",
    "            'non_tm': []\n",
    "        }\n",
    "    }\n",
    "    data_dir = '/home/jonas/peppred/data/training_data'\n",
    "    for key in files:\n",
    "        for subkey in files[key]:\n",
    "            file_path = os.path.join(data_dir, key, subkey, '*.faa')\n",
    "            files[key][subkey] = glob.glob(file_path, recursive=True)\n",
    "            for item in [SeqIO.parse(data_file, format='fasta') for data_file in files[key][subkey]]:\n",
    "                for subitem in item:\n",
    "                    data[key][subkey].append(subitem)\n",
    "    return data\n",
    "\n",
    "def annotate_regions(datum):\n",
    "    sequence, annotation = datum.split('#')\n",
    "    n_region = []\n",
    "    c_region = []\n",
    "    h_region = []\n",
    "    for index, char in enumerate(sequence):\n",
    "        if annotation[index] == 'c':\n",
    "            c_region.append(char)\n",
    "        if annotation[index] == 'h':\n",
    "            h_region.append(char)\n",
    "        if annotation[index] == 'n':\n",
    "            n_region.append(char)\n",
    "    return {\n",
    "        'sequence': str(sequence),\n",
    "        'annotation': str(annotation),\n",
    "        'h' : h_region,\n",
    "        'c' : c_region,\n",
    "        'n' : n_region,\n",
    "    }"
   ]
  },
  {
   "cell_type": "code",
   "execution_count": 5,
   "metadata": {},
   "outputs": [
    {
     "data": {
      "text/plain": [
       "SeqRecord(seq=Seq('MARALCRLPRRGLWLLLAHHLFMTTACQEANYGALLRELCLTQFQVDMEAVGET...iii', SingleLetterAlphabet()), id='RMP1_HUMAN', name='RMP1_HUMAN', description='RMP1_HUMAN O60894 148 AA.', dbxrefs=[])"
      ]
     },
     "execution_count": 5,
     "metadata": {},
     "output_type": "execute_result"
    }
   ],
   "source": [
    "data = get_data()\n",
    "data['positive_examples']['tm'][0]"
   ]
  },
  {
   "cell_type": "code",
   "execution_count": 12,
   "metadata": {},
   "outputs": [
    {
     "data": {
      "text/plain": [
       "{'annotation': 'nnnnnnnnnnnhhhhhhcccccccccCooooooooooooooooooooooooooooooooooooooooooooooooooooooooooooooooooooooooooooooooooooooooooMMMMMMMMMMMMMMMMMMMMMMiiiiiiiii',\n",
       " 'c': ['A', 'H', 'H', 'L', 'F', 'M', 'T', 'T', 'A'],\n",
       " 'h': ['G', 'L', 'W', 'L', 'L', 'L'],\n",
       " 'n': ['M', 'A', 'R', 'A', 'L', 'C', 'R', 'L', 'P', 'R', 'R'],\n",
       " 'sequence': 'MARALCRLPRRGLWLLLAHHLFMTTACQEANYGALLRELCLTQFQVDMEAVGETLWCDWGRTIRSYRELADCTWHMAEKLGCFWPNAEVDRFFLAVHGRYFRSCPISGRAVRDPPGSILYPFIVVPITVTLLVTALVVWQSKRTEGIV'}"
      ]
     },
     "execution_count": 12,
     "metadata": {},
     "output_type": "execute_result"
    }
   ],
   "source": [
    "annotate_regions(data['positive_examples']['tm'][0].seq)"
   ]
  },
  {
   "cell_type": "code",
   "execution_count": 13,
   "metadata": {},
   "outputs": [
    {
     "data": {
      "text/plain": [
       "{'annotation': 'nnnnnnnnnnnhhhhhhhhhhhhhhhhccccccCOOOOOOOOOOOOOOOOOOOOOOOOOOOOOOOOOOOOOOOOOOOOOOOOOOOOOOOOOOOOOOOOOOOOOOOOOOOOOOOOOOOOOOOOOOOOOOOOOOOOOOOOOOOOOOOOOOOOOOOOOOOOOOOOOOOOOOOOOOOOOOOOOOOOOOOOOOOOOOOOOOOOOOOOOOOOOOOOOOOOOOOOOOOOOOOOOOOOOOOOOOOOOOOOOOOOOOOOOOOOOOOOOOOOOOOOOOOOOOOOOOOOOOOOOOOOOOOOOOOOOOOOOOOOOOOOOOOOOOOOOOOOOOOOOOOOOOOOOOOOOOOOOOOOOOOOOOOOOOOOOOOOOOOOOOOOOOOOOOOOOO',\n",
       " 'c': ['T', 'T', 'S', 'A', 'W', 'G'],\n",
       " 'h': ['I',\n",
       "  'L',\n",
       "  'A',\n",
       "  'G',\n",
       "  'A',\n",
       "  'A',\n",
       "  'L',\n",
       "  'A',\n",
       "  'G',\n",
       "  'A',\n",
       "  'L',\n",
       "  'A',\n",
       "  'P',\n",
       "  'V',\n",
       "  'L',\n",
       "  'A'],\n",
       " 'n': ['M', 'A', 'E', 'Q', 'M', 'Q', 'I', 'S', 'R', 'R', 'T'],\n",
       " 'sequence': 'MAEQMQISRRTILAGAALAGALAPVLATTSAWGQGAVRKATAAEIAALPRQKVELVDPPFVHAHSQVAEGGPKVVEFTMVIEEKKIVIDDAGTEVHAMAFNGTVPGPLMVVHQDDYLELTLINPETNTLMHNIDFHAATGALGGGGLTEINPGEKTILRFKATKPGVFVYHCAPPGMVPWHVVSGMNGAIMVLPREGLHDGKGKALTYDKIYYVGEQDFYVPRDENGKYKKYEAPGDAYEDTVKVMRTLTPTHVVFNGAVGALTGDKAMTAAVGEKVLIVHSQANRDTRPHLIGGHGDYVWATGKFNTPPDVDQETWFIPGGAAGAAFYTFQQPGIYAYVNHNLIEAFELGAAAHFKVTGEWNDDLMTSVLAPSGT'}"
      ]
     },
     "execution_count": 13,
     "metadata": {},
     "output_type": "execute_result"
    }
   ],
   "source": [
    "annotate_regions(data['positive_examples']['non_tm'][0].seq)"
   ]
  },
  {
   "cell_type": "code",
   "execution_count": 14,
   "metadata": {},
   "outputs": [
    {
     "data": {
      "text/plain": [
       "{'annotation': 'OOOOOOOOOOOOOOOOOOOOOOOOOOOOOOOOOOOOOOOOOOOOOOOOOOOOOOOOOOOOOOOOOOOOOOOOOOOOOOOOOOOOOOOOOOOOOOOOOOOOOOOOOOOOOOOOOOOOOOOOOOOOOOOOOOOOOOOOOOOOOOOOOOOOOOOOOOOOOOOOOOOOOOOOOOOOOOOOOOOOOOOOOOOOOOOOOOOOOOOOOOOOOOOOOOOOOOOOOOOOOOOOOOOOOOOOOOOOOOOOOOOOOOOOOOOOOOOOOOOOOOOOOOOOOOOOOOOOOOOOOOOOOOOOOOOOOOOOOOOOOOOOOOOOOOOOOOOOOOOOOOOOOOOOOOOOOOOOOOOOOOOOOOOOOOOOOOOOOOOOOOOOOOOOOOOOOOOOOOOOOOOOOOOOOOOOOOOOOOOOOOOOOOOOOOOOOOOOOOOOOOOOOOOOOOOOOOOOOOOOOOOOOOOOOOOOOOOOOOOOOOOOOOOOOOOOOOOOO',\n",
       " 'c': [],\n",
       " 'h': [],\n",
       " 'n': [],\n",
       " 'sequence': 'SQKFDVVVIGAGPGGYVAAIRAAQLGLKTACIEKYIGKEGKVALGGTCLNVGCIPSKALLDSSYKYHEAKEAFKVHGIEAKGVTIDVPAMVARKANIVKNLTGGIATLFKANGVTSFEGHGKLLANKQVEVTGLDGKTQVLEAENVIIASGSRPVEIPPAPLSDDIIVDSTGALEFQAVPKKLGVIGAGVIGLELGSVWARLGAEVTVLEALDKFLPAADEQIAKEALKVLTKQGLNIRLGARVTASEVKKKQVTVTFTDANGEQKETFDKLIVAVGRRPVTTDLLAADSGVTLDERGFIYVDDHCKTSVPGVFAIGDVVRGAMLAHKASEEGVMVAERIAGHKAQMNYDLIPSVIYTHPEIAWVGKTEQTLKAEGVEVNVGTFPFAASGRAMAANDTTGLVKVIADAKTDRVLGVHVIGPSAAELVQQGAIGMEFGTSAEDLGMMVFSHPTLSEALHEAALAVNGHAIHIANRKKR'}"
      ]
     },
     "execution_count": 14,
     "metadata": {},
     "output_type": "execute_result"
    }
   ],
   "source": [
    "annotate_regions(data['negative_examples']['non_tm'][0].seq)"
   ]
  },
  {
   "cell_type": "code",
   "execution_count": 15,
   "metadata": {},
   "outputs": [
    {
     "data": {
      "text/plain": [
       "{'annotation': 'ooooooooooooooooooooooMMMMMMMMMMMMMMMMMMMMMMiiiiiiiiiiiMMMMMMMMMMMMMMMMMMMMMMMMMMooooooooooooooMMMMMMMMMMMMMMMMMMiiiiiiMMMMMMMMMMMMMMMMMMMMooooooooooMMMMMMMMMMMMMMMMMMMMMiiiiiiiiiiiiiiiMMMMMMMMMMMMMMMMMMMMoooooooMMMMMMMMMMMMMMMMMMMMMMMMiiiiiiiiiiiiiiiiiiiiiiii',\n",
       " 'c': [],\n",
       " 'h': [],\n",
       " 'n': [],\n",
       " 'sequence': 'MDPIALTAAVGADLLGDGRPETLWLGIGTLLMLIGTFYFIVKGWGVTDKEAREYYSITILVPGIASAAYLSMFFGIGLTEVQVGSEMLDIYYARYADWLFTTPLLLLDLALLAKVDRVSIGTLVGVDALMIVTGLVGALSHTPLARYTWWLFSTICMIVVLYFLATSLRAAAKERGPEVASTFNTLTALVLVLWTAYPILWIIGTEGAGVVGLGIETLLFMVLDVTAKVGFGFILLRSRAILGDTEAPEPSAGAEASAAD'}"
      ]
     },
     "execution_count": 15,
     "metadata": {},
     "output_type": "execute_result"
    }
   ],
   "source": [
    "annotate_regions(data['negative_examples']['tm'][0].seq)"
   ]
  },
  {
   "cell_type": "markdown",
   "metadata": {},
   "source": [
    "The above shows that some of the examples (the negative ones) do not contain the annotations for 'c', 'h', and 'n' regions. We should rely on the sequences themselves instead. We can use the annotations if a reason presents itself."
   ]
  },
  {
   "cell_type": "code",
   "execution_count": null,
   "metadata": {
    "collapsed": true
   },
   "outputs": [],
   "source": []
  }
 ],
 "metadata": {
  "kernelspec": {
   "display_name": "Python 3",
   "language": "python",
   "name": "python3"
  },
  "language_info": {
   "codemirror_mode": {
    "name": "ipython",
    "version": 3
   },
   "file_extension": ".py",
   "mimetype": "text/x-python",
   "name": "python",
   "nbconvert_exporter": "python",
   "pygments_lexer": "ipython3",
   "version": "3.6.2"
  }
 },
 "nbformat": 4,
 "nbformat_minor": 2
}
